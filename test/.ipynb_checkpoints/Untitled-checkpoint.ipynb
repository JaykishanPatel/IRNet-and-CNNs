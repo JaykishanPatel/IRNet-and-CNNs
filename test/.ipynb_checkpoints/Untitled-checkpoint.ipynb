{
 "cells": [
  {
   "cell_type": "code",
   "execution_count": 12,
   "id": "ace1e995-dfa0-4251-b9d9-7226d212a825",
   "metadata": {},
   "outputs": [
    {
     "name": "stdout",
     "output_type": "stream",
     "text": [
      "running on cuda:0 (NVIDIA GeForce RTX 3080)\n"
     ]
    },
    {
     "name": "stderr",
     "output_type": "stream",
     "text": [
      "/home/clx/jay-work/.venv/lib/python3.8/site-packages/torch/cuda/__init__.py:145: UserWarning: \n",
      "NVIDIA GeForce RTX 3080 with CUDA capability sm_86 is not compatible with the current PyTorch installation.\n",
      "The current PyTorch install supports CUDA capabilities sm_37 sm_50 sm_60 sm_70.\n",
      "If you want to use the NVIDIA GeForce RTX 3080 GPU with PyTorch, please check the instructions at https://pytorch.org/get-started/locally/\n",
      "\n",
      "  warnings.warn(incompatible_device_warn.format(device_name, capability, \" \".join(arch_list), device_name))\n"
     ]
    },
    {
     "ename": "NameError",
     "evalue": "name 'args' is not defined",
     "output_type": "error",
     "traceback": [
      "\u001b[0;31m---------------------------------------------------------------------------\u001b[0m",
      "\u001b[0;31mNameError\u001b[0m                                 Traceback (most recent call last)",
      "Input \u001b[0;32mIn [12]\u001b[0m, in \u001b[0;36m<cell line: 8>\u001b[0;34m()\u001b[0m\n\u001b[1;32m      5\u001b[0m \u001b[38;5;28;01mimport\u001b[39;00m \u001b[38;5;21;01mirnet\u001b[39;00m\u001b[38;5;241m,\u001b[39m \u001b[38;5;21;01mtorch_util\u001b[39;00m \u001b[38;5;28;01mas\u001b[39;00m \u001b[38;5;21;01mtu\u001b[39;00m\n\u001b[1;32m      7\u001b[0m device \u001b[38;5;241m=\u001b[39m tu\u001b[38;5;241m.\u001b[39mdevice()\n\u001b[0;32m----> 8\u001b[0m device \u001b[38;5;241m=\u001b[39m args\u001b[38;5;241m.\u001b[39mdevice \u001b[38;5;28;01mif\u001b[39;00m \u001b[38;5;28mlen\u001b[39m(\u001b[43margs\u001b[49m\u001b[38;5;241m.\u001b[39mdevice)\u001b[38;5;241m>\u001b[39m\u001b[38;5;241m0\u001b[39m \u001b[38;5;28;01melse\u001b[39;00m tu\u001b[38;5;241m.\u001b[39mdevice()\n\u001b[1;32m      9\u001b[0m net \u001b[38;5;241m=\u001b[39m irnet\u001b[38;5;241m.\u001b[39mIRNet()\u001b[38;5;241m.\u001b[39mto( device )\n\u001b[1;32m     10\u001b[0m tu\u001b[38;5;241m.\u001b[39mload(model\u001b[38;5;241m=\u001b[39mnet, device\u001b[38;5;241m=\u001b[39mdevice, filename\u001b[38;5;241m=\u001b[39m\u001b[38;5;124m'\u001b[39m\u001b[38;5;124mmodel-geometric-1-.pt\u001b[39m\u001b[38;5;124m'\u001b[39m, require\u001b[38;5;241m=\u001b[39m\u001b[38;5;28;01mFalse\u001b[39;00m)\n",
      "\u001b[0;31mNameError\u001b[0m: name 'args' is not defined"
     ]
    }
   ],
   "source": [
    "import sys, os, time, math, argparse, numpy as np\n",
    "from matplotlib import pyplot as plt\n",
    "import torch, torch.nn as nn\n",
    "from util import fullpath\n",
    "import irnet, torch_util as tu\n",
    "\n",
    "device = tu.device()\n",
    "net = irnet.IRNet().to( device )\n",
    "tu.load(model=net, device=device, filename='model-geometric-1-.pt', require=False)\n",
    "net.eval()"
   ]
  },
  {
   "cell_type": "code",
   "execution_count": null,
   "id": "4c246cb4-2cbc-40b0-b50d-6fee6db8195c",
   "metadata": {},
   "outputs": [],
   "source": []
  }
 ],
 "metadata": {
  "kernelspec": {
   "display_name": "Python 3 (ipykernel)",
   "language": "python",
   "name": "python3"
  },
  "language_info": {
   "codemirror_mode": {
    "name": "ipython",
    "version": 3
   },
   "file_extension": ".py",
   "mimetype": "text/x-python",
   "name": "python",
   "nbconvert_exporter": "python",
   "pygments_lexer": "ipython3",
   "version": "3.8.10"
  }
 },
 "nbformat": 4,
 "nbformat_minor": 5
}
